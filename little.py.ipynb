{
 "cells": [
  {
   "cell_type": "code",
   "execution_count": 7,
   "id": "1967bea9",
   "metadata": {},
   "outputs": [],
   "source": [
    "from vikingsClasses import Viking, Saxon, War\n",
    "import random"
   ]
  },
  {
   "cell_type": "code",
   "execution_count": 67,
   "id": "a4059db9",
   "metadata": {
    "scrolled": true
   },
   "outputs": [
    {
     "name": "stdout",
     "output_type": "stream",
     "text": [
      "\n",
      "Game over! Vikings and Saxons are still in the thick of battle.\n"
     ]
    }
   ],
   "source": [
    "def crearEquipos(): \n",
    "    # Creamos dos listas, cada lista contiene 1 soldado.\n",
    "    front = Saxon(random.randint(1, 5), random.randint(1, 5)) \n",
    "    data = Viking(\"Viking1\", random.randint(1, 5), random.randint(1, 5))\n",
    "\n",
    "    return [data], [front] # Dos listas, cada lista contiene 1 soldado.\n",
    "\n",
    "def ejecutarJuego(): # Ejecuta el juego de Guerra args: vikingArmy, saxonArmy\n",
    "    \n",
    "    vikingArmy, saxonArmy = crearEquipos() # \"agrega los soldados a las dos listas al objeto 'war\"\n",
    "\n",
    "    war = War() # Crea una instancia de la clase 'war'\n",
    "    \n",
    "    for viking in vikingArmy: #Agrega los soldados a la guerra\n",
    "        war.addViking(viking)\n",
    "    \n",
    "    for saxon in saxonArmy: # Agrega los sajones a la guerra.\n",
    "        war.addSaxon(saxon)\n",
    "      \n",
    "    # Ciclo hasta que un lado gane.\n",
    "    while war.showStatus() == \"Vikingos y sajones siguen en medio de la batalla.\": #Mientras existan soldados vivos\n",
    "        print(\"Vikingos attack!\")\n",
    "        war.vikingAttack()\n",
    "        print(war.showStatus())\n",
    "\n",
    "        print(\"Sajones attack!\")\n",
    "        war.saxonAttack()\n",
    "        print(war.showStatus())\n",
    "    \n",
    "    print(\"\\nGame over! \" + war.showStatus()) # juego terminado y el estado de la batalla.\n",
    "\n",
    "if __name__ == \"__main__\": # se ejecutará solo si el archivo de código se ejecuta como programa principal. Esto evita que el código se ejecute accidentalmente si se importa desde otro archivo de código.\n",
    "    ejecutarJuego()"
   ]
  }
 ],
 "metadata": {
  "kernelspec": {
   "display_name": "Python 3 (ipykernel)",
   "language": "python",
   "name": "python3"
  },
  "language_info": {
   "codemirror_mode": {
    "name": "ipython",
    "version": 3
   },
   "file_extension": ".py",
   "mimetype": "text/x-python",
   "name": "python",
   "nbconvert_exporter": "python",
   "pygments_lexer": "ipython3",
   "version": "3.10.9"
  }
 },
 "nbformat": 4,
 "nbformat_minor": 5
}
