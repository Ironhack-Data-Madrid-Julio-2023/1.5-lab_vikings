{
 "cells": [
  {
   "cell_type": "code",
   "execution_count": 1,
   "id": "0bddc53a",
   "metadata": {},
   "outputs": [],
   "source": [
    "import unittest\n",
    "from vikingsClasses import Viking\n",
    "from inspect import signature"
   ]
  },
  {
   "cell_type": "code",
   "execution_count": null,
   "id": "26ecbaf9",
   "metadata": {},
   "outputs": [],
   "source": [
    "'''\n",
    "In this case, the test says that Soldier constructor function should receive \n",
    "2 arguments (health & strength), so we have to write the correct code that passes \n",
    "this test. Let's make the Soldier constructor function receive two arguments:\n",
    "''''''"
   ]
  },
  {
   "cell_type": "code",
   "execution_count": 2,
   "id": "274e1cf8",
   "metadata": {},
   "outputs": [],
   "source": [
    "# Soldier\n",
    "#self.color=color\n",
    "        #self.dimensiones=dimensiones\n",
    "\n",
    "class Soldier:\n",
    "    \n",
    "    def __init__(self, health, strength):\n",
    "        \n",
    "        self.health = health\n",
    "        self.strength = strenght\n",
    "        \n",
    "#if __name__ == '__main__':\n",
    "    #unittest.main()\n",
    "    \n",
    "#help(Mando)\n",
    "        "
   ]
  },
  {
   "cell_type": "code",
   "execution_count": 3,
   "id": "ecc7cdab",
   "metadata": {},
   "outputs": [
    {
     "name": "stdout",
     "output_type": "stream",
     "text": [
      "Help on class Soldier in module __main__:\n",
      "\n",
      "class Soldier(builtins.object)\n",
      " |  Soldier(health, strength)\n",
      " |  \n",
      " |  Methods defined here:\n",
      " |  \n",
      " |  __init__(self, health, strength)\n",
      " |      Initialize self.  See help(type(self)) for accurate signature.\n",
      " |  \n",
      " |  ----------------------------------------------------------------------\n",
      " |  Data descriptors defined here:\n",
      " |  \n",
      " |  __dict__\n",
      " |      dictionary for instance variables (if defined)\n",
      " |  \n",
      " |  __weakref__\n",
      " |      list of weak references to the object (if defined)\n",
      "\n"
     ]
    }
   ],
   "source": [
    "help(Soldier)"
   ]
  },
  {
   "cell_type": "code",
   "execution_count": 4,
   "id": "1e6d9270",
   "metadata": {},
   "outputs": [
    {
     "ename": "NameError",
     "evalue": "name 'strenght' is not defined",
     "output_type": "error",
     "traceback": [
      "\u001b[1;31m---------------------------------------------------------------------------\u001b[0m",
      "\u001b[1;31mNameError\u001b[0m                                 Traceback (most recent call last)",
      "Cell \u001b[1;32mIn[4], line 5\u001b[0m\n\u001b[0;32m      1\u001b[0m \u001b[38;5;66;03m#m1 = Mando('blanco', [10, 5, 2])  # aqui los args del metodo constructor\u001b[39;00m\n\u001b[0;32m      2\u001b[0m \n\u001b[0;32m      3\u001b[0m \u001b[38;5;66;03m#print(m1)\u001b[39;00m\n\u001b[1;32m----> 5\u001b[0m soldier1 \u001b[38;5;241m=\u001b[39m \u001b[43mSoldier\u001b[49m\u001b[43m(\u001b[49m\u001b[38;5;241;43m300\u001b[39;49m\u001b[43m,\u001b[49m\u001b[43m \u001b[49m\u001b[38;5;241;43m150\u001b[39;49m\u001b[43m)\u001b[49m\n",
      "Cell \u001b[1;32mIn[2], line 10\u001b[0m, in \u001b[0;36mSoldier.__init__\u001b[1;34m(self, health, strength)\u001b[0m\n\u001b[0;32m      7\u001b[0m \u001b[38;5;28;01mdef\u001b[39;00m \u001b[38;5;21m__init__\u001b[39m(\u001b[38;5;28mself\u001b[39m, health, strength):\n\u001b[0;32m      9\u001b[0m     \u001b[38;5;28mself\u001b[39m\u001b[38;5;241m.\u001b[39mhealth \u001b[38;5;241m=\u001b[39m health\n\u001b[1;32m---> 10\u001b[0m     \u001b[38;5;28mself\u001b[39m\u001b[38;5;241m.\u001b[39mstrength \u001b[38;5;241m=\u001b[39m \u001b[43mstrenght\u001b[49m\n",
      "\u001b[1;31mNameError\u001b[0m: name 'strenght' is not defined"
     ]
    }
   ],
   "source": [
    "#m1 = Mando('blanco', [10, 5, 2])  # aqui los args del metodo constructor\n",
    "\n",
    "#print(m1)\n",
    "\n",
    "soldier1 = Soldier(300, 150)"
   ]
  },
  {
   "cell_type": "code",
   "execution_count": 5,
   "id": "9ab1f8d1",
   "metadata": {},
   "outputs": [
    {
     "ename": "NameError",
     "evalue": "name '__Soldier__' is not defined",
     "output_type": "error",
     "traceback": [
      "\u001b[1;31m---------------------------------------------------------------------------\u001b[0m",
      "\u001b[1;31mNameError\u001b[0m                                 Traceback (most recent call last)",
      "Cell \u001b[1;32mIn[5], line 8\u001b[0m\n\u001b[0;32m      5\u001b[0m         \u001b[38;5;28mself\u001b[39m\u001b[38;5;241m.\u001b[39mhealth \u001b[38;5;241m=\u001b[39m health\n\u001b[0;32m      6\u001b[0m         \u001b[38;5;28mself\u001b[39m\u001b[38;5;241m.\u001b[39mstrength \u001b[38;5;241m=\u001b[39m strenght\n\u001b[1;32m----> 8\u001b[0m \u001b[38;5;28;01mif\u001b[39;00m \u001b[43m__Soldier__\u001b[49m \u001b[38;5;241m==\u001b[39m \u001b[38;5;124m'\u001b[39m\u001b[38;5;124m__main__\u001b[39m\u001b[38;5;124m'\u001b[39m:\n\u001b[0;32m      9\u001b[0m     unittest\u001b[38;5;241m.\u001b[39mmain()\n",
      "\u001b[1;31mNameError\u001b[0m: name '__Soldier__' is not defined"
     ]
    }
   ],
   "source": [
    "class Soldier:\n",
    "    \n",
    "    def __init__(self, health, strength):\n",
    "        \n",
    "        self.health = health\n",
    "        self.strength = strenght\n",
    "        \n",
    "if __Soldier__ == '__main__':\n",
    "    unittest.main()"
   ]
  },
  {
   "cell_type": "code",
   "execution_count": 6,
   "id": "add0ad47",
   "metadata": {},
   "outputs": [],
   "source": [
    "class Soldier:\n",
    "    \n",
    "    def __init__(self, health, strength):\n",
    "        \n",
    "        self.health = health\n",
    "        self.strength = strenght\n",
    "        \n",
    "if __name__ == '__Soldier__':\n",
    "    unittest.Soldier()"
   ]
  },
  {
   "cell_type": "code",
   "execution_count": null,
   "id": "7432bcbd",
   "metadata": {},
   "outputs": [],
   "source": [
    "# Viking\n",
    "\n",
    "class Viking:\n",
    "    pass"
   ]
  },
  {
   "cell_type": "code",
   "execution_count": null,
   "id": "d457ca1b",
   "metadata": {},
   "outputs": [],
   "source": []
  },
  {
   "cell_type": "code",
   "execution_count": null,
   "id": "ce80f360",
   "metadata": {},
   "outputs": [],
   "source": [
    "# Saxon\n",
    "\n",
    "\n",
    "class Saxon:\n",
    "    pass\n"
   ]
  },
  {
   "cell_type": "code",
   "execution_count": null,
   "id": "6253a2ad",
   "metadata": {},
   "outputs": [],
   "source": []
  },
  {
   "cell_type": "code",
   "execution_count": null,
   "id": "9358acd6",
   "metadata": {},
   "outputs": [],
   "source": [
    "# War\n",
    "\n",
    "\n",
    "class War:\n",
    "    pass"
   ]
  }
 ],
 "metadata": {
  "kernelspec": {
   "display_name": "Python 3 (ipykernel)",
   "language": "python",
   "name": "python3"
  },
  "language_info": {
   "codemirror_mode": {
    "name": "ipython",
    "version": 3
   },
   "file_extension": ".py",
   "mimetype": "text/x-python",
   "name": "python",
   "nbconvert_exporter": "python",
   "pygments_lexer": "ipython3",
   "version": "3.10.9"
  }
 },
 "nbformat": 4,
 "nbformat_minor": 5
}
